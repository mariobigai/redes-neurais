{
  "nbformat": 4,
  "nbformat_minor": 0,
  "metadata": {
    "colab": {
      "provenance": [],
      "include_colab_link": true
    },
    "kernelspec": {
      "name": "python3",
      "display_name": "Python 3"
    },
    "language_info": {
      "name": "python"
    }
  },
  "cells": [
    {
      "cell_type": "markdown",
      "metadata": {
        "id": "view-in-github",
        "colab_type": "text"
      },
      "source": [
        "<a href=\"https://colab.research.google.com/github/mariobigai/redes-neurais/blob/feature%2Flista3/ELM.ipynb\" target=\"_parent\"><img src=\"https://colab.research.google.com/assets/colab-badge.svg\" alt=\"Open In Colab\"/></a>"
      ]
    },
    {
      "cell_type": "markdown",
      "source": [
        "Código adaptado de [Bruno Adriano Menegoto](https://colab.research.google.com/drive/1LKeWENmnZ8vWcKAX9Kgo0hPEuh1Fp07r?usp=drive_link)"
      ],
      "metadata": {
        "id": "NU2RnFGWwNxM"
      }
    },
    {
      "cell_type": "code",
      "execution_count": 167,
      "metadata": {
        "id": "aX270ELqHxiL"
      },
      "outputs": [],
      "source": [
        "#Importando as bibliotecas que serão utilizadas\n",
        "import numpy as np\n",
        "import pandas as pd\n",
        "import seaborn as sns\n",
        "from matplotlib import pyplot as plt\n",
        "from sklearn.preprocessing import OneHotEncoder, MinMaxScaler\n",
        "from sklearn.model_selection import train_test_split\n",
        "from sklearn.metrics import mean_squared_error"
      ]
    },
    {
      "cell_type": "code",
      "source": [
        "# Datasets\n",
        "from sklearn.datasets import load_iris, load_wine\n",
        "iris = load_iris()\n",
        "wine = load_wine()"
      ],
      "metadata": {
        "id": "UB_C10gaRzg9"
      },
      "execution_count": 168,
      "outputs": []
    },
    {
      "cell_type": "markdown",
      "source": [
        "#Processo de modelagem dos dados"
      ],
      "metadata": {
        "id": "Qbo6nbFIJ9fj"
      }
    },
    {
      "cell_type": "code",
      "source": [
        "df = pd.DataFrame(data=iris.data,columns=iris.feature_names)\n",
        "dataset = iris.data\n",
        "\n",
        "entrada = dataset[:, 0 : -1].astype('float')\n",
        "saida = iris.target\n",
        "# saida"
      ],
      "metadata": {
        "id": "dswDdMY3J7d-"
      },
      "execution_count": 169,
      "outputs": []
    },
    {
      "cell_type": "code",
      "source": [
        "encoder = OneHotEncoder(sparse_output = False)\n",
        "encoderPlot = LabelEncoder()\n",
        "\n",
        "#Transforma as strings (Iris-Setosa, Iris-Versicolor, Iris-Virginica) -> (1, 2, 3)\n",
        "#Porém é preciso deixa em outro formato, como se fosse neuronio ligado e desligado\n",
        "# 1 0 0 --> Classe 1\n",
        "# 0 1 0 --> Classe 2\n",
        "# 0 0 1 --> Classe 3\n",
        "dadosSaida = encoder.fit_transform(np.array(saida).reshape(-1, 1))\n",
        "# dadosSaida"
      ],
      "metadata": {
        "id": "esys3GJzKEI5"
      },
      "execution_count": 170,
      "outputs": []
    },
    {
      "cell_type": "code",
      "source": [
        "#Normalizacao da Entrada\n",
        "#Normalizados entre -1 à 1\n",
        "scaler = MinMaxScaler(feature_range = (-1, 1))\n",
        "\n",
        "entradaNormalizada = scaler.fit_transform(entrada)"
      ],
      "metadata": {
        "id": "0uQYLAsPKYIF"
      },
      "execution_count": 171,
      "outputs": []
    },
    {
      "cell_type": "markdown",
      "source": [
        "#Rede Neural"
      ],
      "metadata": {
        "id": "11M_s73sLXDj"
      }
    },
    {
      "cell_type": "code",
      "source": [
        "class ELM:\n",
        "  def __init__(self, neuronioEntrada, neuronioOculto, neuronioSaida):\n",
        "    self.neuronioEntrada = neuronioEntrada\n",
        "    self.neuronioOculto = neuronioOculto\n",
        "    self.neuronioSaida = neuronioSaida\n",
        "\n",
        "    self.pesosEntradaOculta = np.random.uniform(-1, 1, (self.neuronioEntrada, self.neuronioOculto))\n",
        "    self.biasOculta = np.random.uniform(size = [self.neuronioOculto])\n",
        "\n",
        "    self.H = None #--> pesos camada oculta -- saida\n",
        "    self.beta = None #--> bias camada saida\n",
        "\n",
        "  def funcaoAtivacao(self, x, tipo = 'sigmoid'):\n",
        "    if tipo == 'tanh':\n",
        "      return np.tanh(x)\n",
        "    elif tipo == 'relu':\n",
        "      return np.maximum(0, x)\n",
        "    elif tipo == 'sigmoid':\n",
        "      return 1/(1 + np.exp(-x))\n",
        "\n",
        "  def treinamento(self, entradaTreinamento, saidaTreinamento):\n",
        "    x = entradaTreinamento.dot(self.pesosEntradaOculta) + self.biasOculta\n",
        "    H = self.funcaoAtivacao(x, 'tanh')\n",
        "\n",
        "    #Inversa Moore-Penrose\n",
        "    invH = np.linalg.pinv(H)\n",
        "    self.H = invH.dot(saidaTreinamento)\n",
        "    self.beta = np.zeros(self.neuronioSaida)\n",
        "\n",
        "    mse, acc = self.evaluate(entradasTreinamento, saidaTreinamento)\n",
        "\n",
        "    return mse, acc\n",
        "\n",
        "  def feedforward(self, entradaTeste):\n",
        "    h = self.funcaoAtivacao(entradaTeste.dot(self.pesosEntradaOculta) + self.biasOculta, 'tanh')\n",
        "    saidaPrevista = h.dot(self.H) + self.beta\n",
        "    return saidaPrevista\n",
        "\n",
        "  def evaluate(self, entradaTeste, saidaPretendida):\n",
        "    saidaPrevista = self.feedforward(entradaTeste)\n",
        "\n",
        "    saidaPrev = np.argmax(saidaPrevista, axis = -1)\n",
        "    saidaPret = np.argmax(saidaPretendida, axis = -1)\n",
        "\n",
        "    mse = mean_squared_error(saidaPret, saidaPrev)\n",
        "    acc = np.sum(saidaPrev == saidaPret) / len(saidaPretendida)\n",
        "\n",
        "    return mse, acc"
      ],
      "metadata": {
        "id": "wt_sI-qeLZDo"
      },
      "execution_count": 172,
      "outputs": []
    },
    {
      "cell_type": "markdown",
      "source": [
        "#Plots dos boxplot e da matriz de confusão"
      ],
      "metadata": {
        "id": "APQRswI6XY43"
      }
    },
    {
      "cell_type": "code",
      "source": [
        "def boxplot(resultadoMSETeste):\n",
        "  plt.boxplot(resultadoMSETeste)\n",
        "  plt.show()"
      ],
      "metadata": {
        "id": "-Bs-jqRUXYlG"
      },
      "execution_count": 173,
      "outputs": []
    },
    {
      "cell_type": "markdown",
      "source": [
        "#Iniciando a execução da rede #Metodo 1"
      ],
      "metadata": {
        "id": "lkm8s0sfam11"
      }
    },
    {
      "cell_type": "code",
      "source": [
        "neuronio = 40\n",
        "contador = 0\n",
        "resultadoMSETeste = []\n",
        "resultadoMSETreino = []\n",
        "\n",
        "print(f'{neuronio} Neurônios')\n",
        "print(100*'=')\n",
        "\n",
        "while contador < 10:\n",
        "\n",
        "  entradasTreinamento, entradasTeste, saidaTreinamento, saidaTeste = train_test_split(entradaNormalizada, dadosSaida, test_size = 0.2)\n",
        "  neuroniosCamadaEntrada = len(entradasTreinamento[0])\n",
        "  neuroniosCamadaOculta = neuronio\n",
        "  neuroniosCamadaSaida = len(saidaTeste[0])\n",
        "\n",
        "  redeIris = ELM(neuroniosCamadaEntrada, neuroniosCamadaOculta, neuroniosCamadaSaida)\n",
        "  mse_treino, acc_treino = redeIris.treinamento(entradasTreinamento, saidaTreinamento)\n",
        "  resultadoMSETreino.append(mse_treino)\n",
        "\n",
        "  mse, acc = redeIris.evaluate(entradasTeste, saidaTeste)\n",
        "  resultadoMSETeste.append(mse)\n",
        "\n",
        "  print(f'Run {contador}  ' + 100*'-')\n",
        "  print(f'MSE - Treino: {np.round(mse_treino, 2)}')\n",
        "  print(f'Acuracia - Treino: {np.round(acc_treino, 2) * 100}%')\n",
        "  print(f'MSE - Teste: {np.round(acc, 2)}')\n",
        "  print(f'Acuracia - Teste: {np.round(acc, 2) * 100}%')\n",
        "\n",
        "  contador += 1"
      ],
      "metadata": {
        "id": "KUaHnunmazgD",
        "colab": {
          "base_uri": "https://localhost:8080/"
        },
        "outputId": "a7647f2a-a806-494b-da5b-21ba6cc382b3"
      },
      "execution_count": 174,
      "outputs": [
        {
          "output_type": "stream",
          "name": "stdout",
          "text": [
            "40 Neurônios\n",
            "====================================================================================================\n",
            "Run 0  ----------------------------------------------------------------------------------------------------\n",
            "MSE - Treino: 0.02\n",
            "Acuracia - Treino: 98.0%\n",
            "MSE - Teste: 0.93\n",
            "Acuracia - Teste: 93.0%\n",
            "Run 1  ----------------------------------------------------------------------------------------------------\n",
            "MSE - Treino: 0.03\n",
            "Acuracia - Treino: 97.0%\n",
            "MSE - Teste: 0.97\n",
            "Acuracia - Teste: 97.0%\n",
            "Run 2  ----------------------------------------------------------------------------------------------------\n",
            "MSE - Treino: 0.02\n",
            "Acuracia - Treino: 98.0%\n",
            "MSE - Teste: 0.83\n",
            "Acuracia - Teste: 83.0%\n",
            "Run 3  ----------------------------------------------------------------------------------------------------\n",
            "MSE - Treino: 0.02\n",
            "Acuracia - Treino: 98.0%\n",
            "MSE - Teste: 0.9\n",
            "Acuracia - Teste: 90.0%\n",
            "Run 4  ----------------------------------------------------------------------------------------------------\n",
            "MSE - Treino: 0.04\n",
            "Acuracia - Treino: 96.0%\n",
            "MSE - Teste: 0.97\n",
            "Acuracia - Teste: 97.0%\n",
            "Run 5  ----------------------------------------------------------------------------------------------------\n",
            "MSE - Treino: 0.03\n",
            "Acuracia - Treino: 97.0%\n",
            "MSE - Teste: 1.0\n",
            "Acuracia - Teste: 100.0%\n",
            "Run 6  ----------------------------------------------------------------------------------------------------\n",
            "MSE - Treino: 0.01\n",
            "Acuracia - Treino: 99.0%\n",
            "MSE - Teste: 0.97\n",
            "Acuracia - Teste: 97.0%\n",
            "Run 7  ----------------------------------------------------------------------------------------------------\n",
            "MSE - Treino: 0.02\n",
            "Acuracia - Treino: 98.0%\n",
            "MSE - Teste: 0.93\n",
            "Acuracia - Teste: 93.0%\n",
            "Run 8  ----------------------------------------------------------------------------------------------------\n",
            "MSE - Treino: 0.03\n",
            "Acuracia - Treino: 97.0%\n",
            "MSE - Teste: 0.97\n",
            "Acuracia - Teste: 97.0%\n",
            "Run 9  ----------------------------------------------------------------------------------------------------\n",
            "MSE - Treino: 0.02\n",
            "Acuracia - Treino: 98.0%\n",
            "MSE - Teste: 0.9\n",
            "Acuracia - Teste: 90.0%\n"
          ]
        }
      ]
    },
    {
      "cell_type": "code",
      "source": [
        "boxplot(resultadoMSETreino)\n",
        "boxplot(resultadoMSETeste)"
      ],
      "metadata": {
        "colab": {
          "base_uri": "https://localhost:8080/",
          "height": 843
        },
        "id": "24h2HrHfg7wD",
        "outputId": "a59dc8ca-d6cc-4050-8b01-4c37b9b1d420"
      },
      "execution_count": 175,
      "outputs": [
        {
          "output_type": "display_data",
          "data": {
            "text/plain": [
              "<Figure size 640x480 with 1 Axes>"
            ],
            "image/png": "[encoded data removed]"
          },
          "metadata": {}
        },
        {
          "output_type": "display_data",
          "data": {
            "text/plain": [
              "<Figure size 640x480 with 1 Axes>"
            ],
            "image/png": "[encoded data removed]"
          },
          "metadata": {}
        }
      ]
    },
    {
      "cell_type": "markdown",
      "source": [
        "#Iniciando a execucao da rede #Metodo 2"
      ],
      "metadata": {
        "id": "O-24z94UvQf-"
      }
    },
    {
      "cell_type": "code",
      "source": [
        "lista_neuroniosCamadaOculta = [10, 20, 40, 80, 160]\n",
        "resultadosMSETeste = [[] for _ in range(len(lista_neuroniosCamadaOculta))]\n",
        "resultadosMSETreino = [[] for _ in range(len(lista_neuroniosCamadaOculta))]\n",
        "\n",
        "for neuronio in range(len(lista_neuroniosCamadaOculta)):\n",
        "  print(f'{lista_neuroniosCamadaOculta[neuronio]} Neurônios')\n",
        "  print(100*'=')\n",
        "  for execucao in range(10):\n",
        "    resultadoMSE, resultadoACC = 0, 0\n",
        "\n",
        "    entradasTreinamento, entradasTeste, saidaTreinamento, saidaTeste = train_test_split(entradaNormalizada, dadosSaida, test_size = 0.3)\n",
        "    neuroniosCamadaEntrada = len(entradasTreinamento[0])\n",
        "    neuroniosCamadaOculta = lista_neuroniosCamadaOculta[neuronio]\n",
        "    neuroniosCamadaSaida = len(saidaTeste[0])\n",
        "\n",
        "    redeIris = ELM(neuroniosCamadaEntrada, neuroniosCamadaOculta, neuroniosCamadaSaida)\n",
        "    mse_treino, acc_treino = redeIris.treinamento(entradasTreinamento, saidaTreinamento)\n",
        "    mse_teste, acc_teste = redeIris.evaluate(entradasTeste, saidaTeste)\n",
        "\n",
        "    resultadosMSETreino[neuronio].append(mse_treino)\n",
        "    resultadosMSETeste[neuronio].append(mse_teste)\n",
        "\n",
        "    print(f'Run {execucao}  ' + 100*'-')\n",
        "    print(f'MSE - Treino: {np.round(mse_treino, 2)}')\n",
        "    print(f'Acuracia - Treino: {np.round(acc_treino, 2) * 100}%')\n",
        "    print(f'MSE - Teste: {np.round(acc, 2)}')\n",
        "    print(f'Acuracia - Teste: {np.round(acc, 2) * 100}%')\n",
        "  print(100*'=')\n"
      ],
      "metadata": {
        "id": "12Ggah1CvYJF",
        "colab": {
          "base_uri": "https://localhost:8080/"
        },
        "outputId": "49e0318c-b5ac-4089-dfb9-d54217fbd0f8"
      },
      "execution_count": 160,
      "outputs": [
        {
          "output_type": "stream",
          "name": "stdout",
          "text": [
            "10 Neurônios\n",
            "====================================================================================================\n",
            "Run 0  ----------------------------------------------------------------------------------------------------\n",
            "MSE - Treino: 0.1\n",
            "Acuracia - Treino: 90.0%\n",
            "MSE - Teste: 0.97\n",
            "Acuracia - Teste: 97.0%\n",
            "Run 1  ----------------------------------------------------------------------------------------------------\n",
            "MSE - Treino: 0.06\n",
            "Acuracia - Treino: 94.0%\n",
            "MSE - Teste: 0.97\n",
            "Acuracia - Teste: 97.0%\n",
            "Run 2  ----------------------------------------------------------------------------------------------------\n",
            "MSE - Treino: 0.05\n",
            "Acuracia - Treino: 95.0%\n",
            "MSE - Teste: 0.97\n",
            "Acuracia - Teste: 97.0%\n",
            "Run 3  ----------------------------------------------------------------------------------------------------\n",
            "MSE - Treino: 0.03\n",
            "Acuracia - Treino: 97.0%\n",
            "MSE - Teste: 0.97\n",
            "Acuracia - Teste: 97.0%\n",
            "Run 4  ----------------------------------------------------------------------------------------------------\n",
            "MSE - Treino: 0.06\n",
            "Acuracia - Treino: 94.0%\n",
            "MSE - Teste: 0.97\n",
            "Acuracia - Teste: 97.0%\n",
            "Run 5  ----------------------------------------------------------------------------------------------------\n",
            "MSE - Treino: 0.06\n",
            "Acuracia - Treino: 94.0%\n",
            "MSE - Teste: 0.97\n",
            "Acuracia - Teste: 97.0%\n",
            "Run 6  ----------------------------------------------------------------------------------------------------\n",
            "MSE - Treino: 0.04\n",
            "Acuracia - Treino: 96.0%\n",
            "MSE - Teste: 0.97\n",
            "Acuracia - Teste: 97.0%\n",
            "Run 7  ----------------------------------------------------------------------------------------------------\n",
            "MSE - Treino: 0.05\n",
            "Acuracia - Treino: 95.0%\n",
            "MSE - Teste: 0.97\n",
            "Acuracia - Teste: 97.0%\n",
            "Run 8  ----------------------------------------------------------------------------------------------------\n",
            "MSE - Treino: 0.11\n",
            "Acuracia - Treino: 89.0%\n",
            "MSE - Teste: 0.97\n",
            "Acuracia - Teste: 97.0%\n",
            "Run 9  ----------------------------------------------------------------------------------------------------\n",
            "MSE - Treino: 0.04\n",
            "Acuracia - Treino: 96.0%\n",
            "MSE - Teste: 0.97\n",
            "Acuracia - Teste: 97.0%\n",
            "====================================================================================================\n",
            "20 Neurônios\n",
            "====================================================================================================\n",
            "Run 0  ----------------------------------------------------------------------------------------------------\n",
            "MSE - Treino: 0.04\n",
            "Acuracia - Treino: 96.0%\n",
            "MSE - Teste: 0.97\n",
            "Acuracia - Teste: 97.0%\n",
            "Run 1  ----------------------------------------------------------------------------------------------------\n",
            "MSE - Treino: 0.03\n",
            "Acuracia - Treino: 97.0%\n",
            "MSE - Teste: 0.97\n",
            "Acuracia - Teste: 97.0%\n",
            "Run 2  ----------------------------------------------------------------------------------------------------\n",
            "MSE - Treino: 0.02\n",
            "Acuracia - Treino: 98.0%\n",
            "MSE - Teste: 0.97\n",
            "Acuracia - Teste: 97.0%\n",
            "Run 3  ----------------------------------------------------------------------------------------------------\n",
            "MSE - Treino: 0.03\n",
            "Acuracia - Treino: 97.0%\n",
            "MSE - Teste: 0.97\n",
            "Acuracia - Teste: 97.0%\n",
            "Run 4  ----------------------------------------------------------------------------------------------------\n",
            "MSE - Treino: 0.06\n",
            "Acuracia - Treino: 94.0%\n",
            "MSE - Teste: 0.97\n",
            "Acuracia - Teste: 97.0%\n",
            "Run 5  ----------------------------------------------------------------------------------------------------\n",
            "MSE - Treino: 0.02\n",
            "Acuracia - Treino: 98.0%\n",
            "MSE - Teste: 0.97\n",
            "Acuracia - Teste: 97.0%\n",
            "Run 6  ----------------------------------------------------------------------------------------------------\n",
            "MSE - Treino: 0.02\n",
            "Acuracia - Treino: 98.0%\n",
            "MSE - Teste: 0.97\n",
            "Acuracia - Teste: 97.0%\n",
            "Run 7  ----------------------------------------------------------------------------------------------------\n",
            "MSE - Treino: 0.04\n",
            "Acuracia - Treino: 96.0%\n",
            "MSE - Teste: 0.97\n",
            "Acuracia - Teste: 97.0%\n",
            "Run 8  ----------------------------------------------------------------------------------------------------\n",
            "MSE - Treino: 0.03\n",
            "Acuracia - Treino: 97.0%\n",
            "MSE - Teste: 0.97\n",
            "Acuracia - Teste: 97.0%\n",
            "Run 9  ----------------------------------------------------------------------------------------------------\n",
            "MSE - Treino: 0.03\n",
            "Acuracia - Treino: 97.0%\n",
            "MSE - Teste: 0.97\n",
            "Acuracia - Teste: 97.0%\n",
            "====================================================================================================\n",
            "40 Neurônios\n",
            "====================================================================================================\n",
            "Run 0  ----------------------------------------------------------------------------------------------------\n",
            "MSE - Treino: 0.01\n",
            "Acuracia - Treino: 99.0%\n",
            "MSE - Teste: 0.97\n",
            "Acuracia - Teste: 97.0%\n",
            "Run 1  ----------------------------------------------------------------------------------------------------\n",
            "MSE - Treino: 0.01\n",
            "Acuracia - Treino: 99.0%\n",
            "MSE - Teste: 0.97\n",
            "Acuracia - Teste: 97.0%\n",
            "Run 2  ----------------------------------------------------------------------------------------------------\n",
            "MSE - Treino: 0.01\n",
            "Acuracia - Treino: 99.0%\n",
            "MSE - Teste: 0.97\n",
            "Acuracia - Teste: 97.0%\n",
            "Run 3  ----------------------------------------------------------------------------------------------------\n",
            "MSE - Treino: 0.03\n",
            "Acuracia - Treino: 97.0%\n",
            "MSE - Teste: 0.97\n",
            "Acuracia - Teste: 97.0%\n",
            "Run 4  ----------------------------------------------------------------------------------------------------\n",
            "MSE - Treino: 0.02\n",
            "Acuracia - Treino: 98.0%\n",
            "MSE - Teste: 0.97\n",
            "Acuracia - Teste: 97.0%\n",
            "Run 5  ----------------------------------------------------------------------------------------------------\n",
            "MSE - Treino: 0.04\n",
            "Acuracia - Treino: 96.0%\n",
            "MSE - Teste: 0.97\n",
            "Acuracia - Teste: 97.0%\n",
            "Run 6  ----------------------------------------------------------------------------------------------------\n",
            "MSE - Treino: 0.03\n",
            "Acuracia - Treino: 97.0%\n",
            "MSE - Teste: 0.97\n",
            "Acuracia - Teste: 97.0%\n",
            "Run 7  ----------------------------------------------------------------------------------------------------\n",
            "MSE - Treino: 0.03\n",
            "Acuracia - Treino: 97.0%\n",
            "MSE - Teste: 0.97\n",
            "Acuracia - Teste: 97.0%\n",
            "Run 8  ----------------------------------------------------------------------------------------------------\n",
            "MSE - Treino: 0.03\n",
            "Acuracia - Treino: 97.0%\n",
            "MSE - Teste: 0.97\n",
            "Acuracia - Teste: 97.0%\n",
            "Run 9  ----------------------------------------------------------------------------------------------------\n",
            "MSE - Treino: 0.02\n",
            "Acuracia - Treino: 98.0%\n",
            "MSE - Teste: 0.97\n",
            "Acuracia - Teste: 97.0%\n",
            "====================================================================================================\n",
            "80 Neurônios\n",
            "====================================================================================================\n",
            "Run 0  ----------------------------------------------------------------------------------------------------\n",
            "MSE - Treino: 0.0\n",
            "Acuracia - Treino: 100.0%\n",
            "MSE - Teste: 0.97\n",
            "Acuracia - Teste: 97.0%\n",
            "Run 1  ----------------------------------------------------------------------------------------------------\n",
            "MSE - Treino: 0.0\n",
            "Acuracia - Treino: 100.0%\n",
            "MSE - Teste: 0.97\n",
            "Acuracia - Teste: 97.0%\n",
            "Run 2  ----------------------------------------------------------------------------------------------------\n",
            "MSE - Treino: 0.0\n",
            "Acuracia - Treino: 100.0%\n",
            "MSE - Teste: 0.97\n",
            "Acuracia - Teste: 97.0%\n",
            "Run 3  ----------------------------------------------------------------------------------------------------\n",
            "MSE - Treino: 0.0\n",
            "Acuracia - Treino: 100.0%\n",
            "MSE - Teste: 0.97\n",
            "Acuracia - Teste: 97.0%\n",
            "Run 4  ----------------------------------------------------------------------------------------------------\n",
            "MSE - Treino: 0.0\n",
            "Acuracia - Treino: 100.0%\n",
            "MSE - Teste: 0.97\n",
            "Acuracia - Teste: 97.0%\n",
            "Run 5  ----------------------------------------------------------------------------------------------------\n",
            "MSE - Treino: 0.01\n",
            "Acuracia - Treino: 99.0%\n",
            "MSE - Teste: 0.97\n",
            "Acuracia - Teste: 97.0%\n",
            "Run 6  ----------------------------------------------------------------------------------------------------\n",
            "MSE - Treino: 0.0\n",
            "Acuracia - Treino: 100.0%\n",
            "MSE - Teste: 0.97\n",
            "Acuracia - Teste: 97.0%\n",
            "Run 7  ----------------------------------------------------------------------------------------------------\n",
            "MSE - Treino: 0.0\n",
            "Acuracia - Treino: 100.0%\n",
            "MSE - Teste: 0.97\n",
            "Acuracia - Teste: 97.0%\n",
            "Run 8  ----------------------------------------------------------------------------------------------------\n",
            "MSE - Treino: 0.0\n",
            "Acuracia - Treino: 100.0%\n",
            "MSE - Teste: 0.97\n",
            "Acuracia - Teste: 97.0%\n",
            "Run 9  ----------------------------------------------------------------------------------------------------\n",
            "MSE - Treino: 0.0\n",
            "Acuracia - Treino: 100.0%\n",
            "MSE - Teste: 0.97\n",
            "Acuracia - Teste: 97.0%\n",
            "====================================================================================================\n",
            "160 Neurônios\n",
            "====================================================================================================\n",
            "Run 0  ----------------------------------------------------------------------------------------------------\n",
            "MSE - Treino: 0.0\n",
            "Acuracia - Treino: 100.0%\n",
            "MSE - Teste: 0.97\n",
            "Acuracia - Teste: 97.0%\n",
            "Run 1  ----------------------------------------------------------------------------------------------------\n",
            "MSE - Treino: 0.0\n",
            "Acuracia - Treino: 100.0%\n",
            "MSE - Teste: 0.97\n",
            "Acuracia - Teste: 97.0%\n",
            "Run 2  ----------------------------------------------------------------------------------------------------\n",
            "MSE - Treino: 0.0\n",
            "Acuracia - Treino: 100.0%\n",
            "MSE - Teste: 0.97\n",
            "Acuracia - Teste: 97.0%\n",
            "Run 3  ----------------------------------------------------------------------------------------------------\n",
            "MSE - Treino: 0.0\n",
            "Acuracia - Treino: 100.0%\n",
            "MSE - Teste: 0.97\n",
            "Acuracia - Teste: 97.0%\n",
            "Run 4  ----------------------------------------------------------------------------------------------------\n",
            "MSE - Treino: 0.0\n",
            "Acuracia - Treino: 100.0%\n",
            "MSE - Teste: 0.97\n",
            "Acuracia - Teste: 97.0%\n",
            "Run 5  ----------------------------------------------------------------------------------------------------\n",
            "MSE - Treino: 0.0\n",
            "Acuracia - Treino: 100.0%\n",
            "MSE - Teste: 0.97\n",
            "Acuracia - Teste: 97.0%\n",
            "Run 6  ----------------------------------------------------------------------------------------------------\n",
            "MSE - Treino: 0.0\n",
            "Acuracia - Treino: 100.0%\n",
            "MSE - Teste: 0.97\n",
            "Acuracia - Teste: 97.0%\n",
            "Run 7  ----------------------------------------------------------------------------------------------------\n",
            "MSE - Treino: 0.0\n",
            "Acuracia - Treino: 100.0%\n",
            "MSE - Teste: 0.97\n",
            "Acuracia - Teste: 97.0%\n",
            "Run 8  ----------------------------------------------------------------------------------------------------\n",
            "MSE - Treino: 0.0\n",
            "Acuracia - Treino: 100.0%\n",
            "MSE - Teste: 0.97\n",
            "Acuracia - Teste: 97.0%\n",
            "Run 9  ----------------------------------------------------------------------------------------------------\n",
            "MSE - Treino: 0.0\n",
            "Acuracia - Treino: 100.0%\n",
            "MSE - Teste: 0.97\n",
            "Acuracia - Teste: 97.0%\n",
            "====================================================================================================\n"
          ]
        }
      ]
    },
    {
      "cell_type": "code",
      "source": [
        "fig, ax = plt.subplots(figsize = (20, 10))\n",
        "\n",
        "ax.boxplot(resultadosMSETreino)\n",
        "ax.set_xticklabels([f'Neuronio {lista_neuroniosCamadaOculta[0]}', f'Neuronio {lista_neuroniosCamadaOculta[1]}', f'Neuronio {lista_neuroniosCamadaOculta[2]}', f'Neuronio {lista_neuroniosCamadaOculta[3]}', f'Neuronio {lista_neuroniosCamadaOculta[4]}'], fontsize = 16)\n",
        "ax.set_ylabel('MSE - Treino', fontsize = 16)\n",
        "\n",
        "plt.show()"
      ],
      "metadata": {
        "id": "abgkcmDN0kD-",
        "colab": {
          "base_uri": "https://localhost:8080/",
          "height": 842
        },
        "outputId": "8a145184-814d-4fd2-99dc-0d1c5191e0fc"
      },
      "execution_count": 161,
      "outputs": [
        {
          "output_type": "display_data",
          "data": {
            "text/plain": [
              "<Figure size 2000x1000 with 1 Axes>"
            ],
            "image/png": "[encoded data removed]"
          },
          "metadata": {}
        }
      ]
    },
    {
      "cell_type": "code",
      "source": [
        "fig, ax = plt.subplots(figsize = (20, 10))\n",
        "\n",
        "ax.boxplot(resultadosMSETeste)\n",
        "ax.set_xticklabels([f'Neuronio {lista_neuroniosCamadaOculta[0]}', f'Neuronio {lista_neuroniosCamadaOculta[1]}', f'Neuronio {lista_neuroniosCamadaOculta[2]}', f'Neuronio {lista_neuroniosCamadaOculta[3]}', f'Neuronio {lista_neuroniosCamadaOculta[4]}'], fontsize = 16)\n",
        "ax.set_ylabel('MSE - Teste', fontsize = 16)\n",
        "ax.legend(['MSE'], loc = 'upper right', fontsize = 14)\n",
        "\n",
        "plt.show()"
      ],
      "metadata": {
        "colab": {
          "base_uri": "https://localhost:8080/",
          "height": 836
        },
        "id": "8_zUEXt_hggJ",
        "outputId": "61e01fd7-392a-4c34-bd0d-94dfaa8e3f8d"
      },
      "execution_count": 162,
      "outputs": [
        {
          "output_type": "display_data",
          "data": {
            "text/plain": [
              "<Figure size 2000x1000 with 1 Axes>"
            ],
            "image/png": "[encoded data removed]"
          },
          "metadata": {}
        }
      ]
    }
  ]
}